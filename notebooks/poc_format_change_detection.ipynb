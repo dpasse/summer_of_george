{
 "cells": [
  {
   "cell_type": "code",
   "execution_count": null,
   "metadata": {},
   "outputs": [],
   "source": []
  },
  {
   "cell_type": "code",
   "execution_count": 1,
   "metadata": {},
   "outputs": [],
   "source": [
    "%config IPCompleter.greedy=True"
   ]
  },
  {
   "cell_type": "code",
   "execution_count": null,
   "metadata": {},
   "outputs": [],
   "source": []
  },
  {
   "cell_type": "code",
   "execution_count": 2,
   "metadata": {},
   "outputs": [],
   "source": [
    "import warnings\n",
    "\n",
    "warnings.filterwarnings('ignore')"
   ]
  },
  {
   "cell_type": "code",
   "execution_count": null,
   "metadata": {},
   "outputs": [],
   "source": []
  },
  {
   "cell_type": "code",
   "execution_count": 5,
   "metadata": {},
   "outputs": [],
   "source": [
    "import numpy as np"
   ]
  },
  {
   "cell_type": "code",
   "execution_count": null,
   "metadata": {},
   "outputs": [],
   "source": []
  },
  {
   "cell_type": "code",
   "execution_count": 6,
   "metadata": {},
   "outputs": [
    {
     "name": "stdout",
     "output_type": "stream",
     "text": [
      "\n",
      "  mother:  Tree either call task until red push toward produce property if green eight set.\n",
      "  service:  Everybody market argue center crime approach actually they would artist system and.\n",
      "  everyone:  Because do guy xyz = 50 claim sit reveal walk.\n",
      "  grow:  Security improve situation we later pull save thank not edge in.\n",
      "  state:  Probably money long six religious manage hear pass best work.\n",
      "  treatment:  Situation of water though it war.\n",
      "  report:  Final factor last care would I eight four.\n",
      "  American:  Magazine will mm = 51 third itself direction well party local concern site law word response.\n",
      "  instead:  After front speech hope turn decade both worry.\n",
      "  type:  Stop small job gas way memory south environment hundred lawyer staff bring decision option third full.\n",
      "\n",
      "     aabc: 0     aefg: 10     ahij: 20\n",
      "     babc: 1     befg: 11     bhij: 21\n",
      "     cabc: 2     cefg: 12     chij: 22\n",
      "     dabc: 3     defg: 13     dhij: 23\n",
      "\n",
      "     eabc: 4     eefg: 14     ehij: 24\n",
      "     fabc: 5     fefg: 15     fhij: 25\n",
      "     gabc: 6     gefg: 16     ghij: 26\n",
      "     habc: 7     hefg: 17     hhij: 27\n",
      "\n"
     ]
    }
   ],
   "source": [
    "with open('../data/test1.txt', 'r') as input_file:\n",
    "    document = input_file.read()\n",
    "    \n",
    "print(document)"
   ]
  },
  {
   "cell_type": "code",
   "execution_count": null,
   "metadata": {},
   "outputs": [],
   "source": []
  },
  {
   "cell_type": "code",
   "execution_count": 7,
   "metadata": {},
   "outputs": [
    {
     "name": "stdout",
     "output_type": "stream",
     "text": [
      "['  mother:  Tree either call task until red push toward produce property if green eight set.'\n",
      " '  service:  Everybody market argue center crime approach actually they would artist system and.'\n",
      " '  everyone:  Because do guy xyz = 50 claim sit reveal walk.'\n",
      " '  grow:  Security improve situation we later pull save thank not edge in.'\n",
      " '  state:  Probably money long six religious manage hear pass best work.'\n",
      " '  treatment:  Situation of water though it war.'\n",
      " '  report:  Final factor last care would I eight four.'\n",
      " '  American:  Magazine will mm = 51 third itself direction well party local concern site law word response.'\n",
      " '  instead:  After front speech hope turn decade both worry.'\n",
      " '  type:  Stop small job gas way memory south environment hundred lawyer staff bring decision option third full.'\n",
      " '     aabc: 0     aefg: 10     ahij: 20'\n",
      " '     babc: 1     befg: 11     bhij: 21'\n",
      " '     cabc: 2     cefg: 12     chij: 22'\n",
      " '     dabc: 3     defg: 13     dhij: 23'\n",
      " '     eabc: 4     eefg: 14     ehij: 24'\n",
      " '     fabc: 5     fefg: 15     fhij: 25'\n",
      " '     gabc: 6     gefg: 16     ghij: 26'\n",
      " '     habc: 7     hefg: 17     hhij: 27']\n"
     ]
    }
   ],
   "source": [
    "lines_in_document = np.array(list(filter(lambda r: r != '', document.split('\\n'))))\n",
    "\n",
    "print(lines_in_document[:20])"
   ]
  },
  {
   "cell_type": "code",
   "execution_count": null,
   "metadata": {},
   "outputs": [],
   "source": []
  },
  {
   "cell_type": "code",
   "execution_count": 8,
   "metadata": {},
   "outputs": [],
   "source": [
    "import re\n",
    "from matplotlib import pyplot as plt"
   ]
  },
  {
   "cell_type": "code",
   "execution_count": 9,
   "metadata": {},
   "outputs": [
    {
     "data": {
      "text/plain": [
       "<matplotlib.image.AxesImage at 0x122b22e10>"
      ]
     },
     "execution_count": 9,
     "metadata": {},
     "output_type": "execute_result"
    },
    {
     "data": {
      "image/png": "[encoded data removed]",
      "text/plain": [
       "<Figure size 432x288 with 1 Axes>"
      ]
     },
     "metadata": {
      "needs_background": "light"
     },
     "output_type": "display_data"
    }
   ],
   "source": [
    "length = len(lines_in_document)\n",
    "width = np.max(list(map(len, lines_in_document)))\n",
    "\n",
    "document_as_matrix = np.zeros((length, width))\n",
    "\n",
    "for r, line in enumerate(lines_in_document):\n",
    "    for c, char in enumerate(line.replace(r'\\s', ' ')):\n",
    "        if char == ' ':\n",
    "            pass\n",
    "        elif re.match(r'[:=~]', char):\n",
    "            document_as_matrix[r, c] = .70\n",
    "        elif re.match(r'[A-Z]', char):\n",
    "            document_as_matrix[r, c] = 1\n",
    "        else:\n",
    "            document_as_matrix[r, c] = .85\n",
    "\n",
    "for row in range(length):\n",
    "    row_values = document_as_matrix[row, :]\n",
    "    for col in range(1, width-1):\n",
    "        pv = row_values[col-1]\n",
    "        cv = row_values[col]\n",
    "        nv = row_values[col+1]\n",
    "\n",
    "        if pv > 0 and nv > 0 and cv == 0:\n",
    "            document_as_matrix[row, col] = .85\n",
    "\n",
    "plt.imshow(document_as_matrix, aspect='auto')"
   ]
  },
  {
   "cell_type": "code",
   "execution_count": null,
   "metadata": {},
   "outputs": [],
   "source": []
  },
  {
   "cell_type": "code",
   "execution_count": 13,
   "metadata": {},
   "outputs": [],
   "source": [
    "import math"
   ]
  },
  {
   "cell_type": "code",
   "execution_count": null,
   "metadata": {},
   "outputs": [],
   "source": []
  },
  {
   "cell_type": "code",
   "execution_count": 19,
   "metadata": {},
   "outputs": [
    {
     "name": "stdout",
     "output_type": "stream",
     "text": [
      "37 55\n"
     ]
    }
   ],
   "source": [
    "half = math.floor(len(document_as_matrix[0, :]) / 2)\n",
    "one_third = math.floor(len(document_as_matrix[0, :]) / 3)\n",
    "\n",
    "print(one_third, half)"
   ]
  },
  {
   "cell_type": "code",
   "execution_count": 27,
   "metadata": {},
   "outputs": [
    {
     "data": {
      "text/plain": [
       "array([0.1       , 0.0993321 , 0.09866419, 0.09799629, 0.09732839,\n",
       "       0.09666048, 0.09599258, 0.09532468, 0.09465677, 0.09398887,\n",
       "       0.09332096, 0.09265306, 0.09198516, 0.09131725, 0.09064935,\n",
       "       0.08998145, 0.08931354, 0.08864564, 0.08797774, 0.08730983,\n",
       "       0.08664193, 0.08597403, 0.08530612, 0.08463822, 0.08397032,\n",
       "       0.08330241, 0.08263451, 0.0819666 , 0.0812987 , 0.0806308 ,\n",
       "       0.07996289, 0.07929499, 0.07862709, 0.07795918, 0.07729128,\n",
       "       0.07662338, 0.07595547, 0.07528757, 0.07461967, 0.07395176,\n",
       "       0.07328386, 0.07261596, 0.07194805, 0.07128015, 0.07061224,\n",
       "       0.06994434, 0.06927644, 0.06860853, 0.06794063, 0.06727273])"
      ]
     },
     "execution_count": 27,
     "metadata": {},
     "output_type": "execute_result"
    }
   ],
   "source": [
    "np.flip(np.linspace(37, 55) / 55)"
   ]
  },
  {
   "cell_type": "code",
   "execution_count": 10,
   "metadata": {},
   "outputs": [
    {
     "data": {
      "text/plain": [
       "array([0.  , 0.  , 0.85, 0.85, 0.85, 0.85, 0.85, 0.85, 0.7 , 0.  , 0.  ,\n",
       "       1.  , 0.85, 0.85, 0.85, 0.85, 0.85, 0.85, 0.85, 0.85, 0.85, 0.85,\n",
       "       0.85, 0.85, 0.85, 0.85, 0.85, 0.85, 0.85, 0.85, 0.85, 0.85, 0.85,\n",
       "       0.85, 0.85, 0.85, 0.85, 0.85, 0.85, 0.85, 0.85, 0.85, 0.85, 0.85,\n",
       "       0.85, 0.85, 0.85, 0.85, 0.85, 0.85, 0.85, 0.85, 0.85, 0.85, 0.85,\n",
       "       0.85, 0.85, 0.85, 0.85, 0.85, 0.85, 0.85, 0.85, 0.85, 0.85, 0.85,\n",
       "       0.85, 0.85, 0.85, 0.85, 0.85, 0.85, 0.85, 0.85, 0.85, 0.85, 0.85,\n",
       "       0.85, 0.85, 0.85, 0.85, 0.85, 0.85, 0.85, 0.85, 0.85, 0.85, 0.85,\n",
       "       0.85, 0.85, 0.85, 0.  , 0.  , 0.  , 0.  , 0.  , 0.  , 0.  , 0.  ,\n",
       "       0.  , 0.  , 0.  , 0.  , 0.  , 0.  , 0.  , 0.  , 0.  , 0.  , 0.  ,\n",
       "       0.  ])"
      ]
     },
     "execution_count": 10,
     "metadata": {},
     "output_type": "execute_result"
    }
   ],
   "source": [
    "document_as_matrix[0, :]"
   ]
  },
  {
   "cell_type": "code",
   "execution_count": null,
   "metadata": {},
   "outputs": [],
   "source": []
  }
 ],
 "metadata": {
  "kernelspec": {
   "display_name": "Python 3",
   "language": "python",
   "name": "python3"
  },
  "language_info": {
   "codemirror_mode": {
    "name": "ipython",
    "version": 3
   },
   "file_extension": ".py",
   "mimetype": "text/x-python",
   "name": "python",
   "nbconvert_exporter": "python",
   "pygments_lexer": "ipython3",
   "version": "3.7.3"
  }
 },
 "nbformat": 4,
 "nbformat_minor": 4
}
